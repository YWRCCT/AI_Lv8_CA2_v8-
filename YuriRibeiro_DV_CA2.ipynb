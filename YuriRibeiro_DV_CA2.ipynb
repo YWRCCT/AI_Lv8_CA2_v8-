{
 "cells": [
  {
   "cell_type": "markdown",
   "id": "79d5cc13",
   "metadata": {},
   "source": [
    "# AI_LV8_CA2_V8\n",
    "\n",
    "Student: Yuri Ribeiro - 2020347\n",
    "\n"
   ]
  },
  {
   "cell_type": "markdown",
   "id": "89dffab9",
   "metadata": {},
   "source": [
    "## Questions\n"
   ]
  },
  {
   "cell_type": "markdown",
   "id": "d863150e",
   "metadata": {},
   "source": [
    "### (i) Identify the differences between a graph and a tree. \n",
    "\n",
    "A - A graph is visual representation of information in a more general graphical form than a tree. It consists of a series of nodes/vertices and edges/links displayed as connections linking the nodes. Graphs can have cycles as a closed loops. While a tree is a general data structure similar to a real tree. It also contains nodes/vertices and edges, however, each node has at most one parent node, and none or more children in a specific order. Thus, a tree cannot have any cycles. (Bullinaria, 2019)"
   ]
  },
  {
   "cell_type": "markdown",
   "id": "a621cfa9",
   "metadata": {},
   "source": [
    "###  (ii) Explain in detail how the graph is an abstraction of the problem. \n",
    "\n",
    "A- Graph structures are useful for modeling and solving various problems. For example, an underground tunnel network or a railway map can be abstractly represented using nodes and edges. By creating a graph for a railway map, it becomes easier to visualize the paths, distances, and obstacles that can hinder progress, making it simpler to generate new ideas and innovations.(Bullinaria, 2019)"
   ]
  },
  {
   "cell_type": "markdown",
   "id": "679b407b",
   "metadata": {},
   "source": [
    "###  (iii)\tIdentify the advantages of using a visualisation such as the one shown in Fig\n",
    "\n",
    "A- Using a visualization like fig1 has the advantage of allowing us to determine if there is a path from point A to point K, or if there is a shorter way to get from A to S. I will demonstrate this concept further in the following question."
   ]
  },
  {
   "cell_type": "code",
   "execution_count": null,
   "id": "a5c37eac",
   "metadata": {},
   "outputs": [],
   "source": []
  }
 ],
 "metadata": {
  "kernelspec": {
   "display_name": "Python 3 (ipykernel)",
   "language": "python",
   "name": "python3"
  },
  "language_info": {
   "codemirror_mode": {
    "name": "ipython",
    "version": 3
   },
   "file_extension": ".py",
   "mimetype": "text/x-python",
   "name": "python",
   "nbconvert_exporter": "python",
   "pygments_lexer": "ipython3",
   "version": "3.11.5"
  }
 },
 "nbformat": 4,
 "nbformat_minor": 5
}
