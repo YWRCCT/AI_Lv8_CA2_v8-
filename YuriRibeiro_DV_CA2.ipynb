{
 "cells": [
  {
   "cell_type": "markdown",
   "id": "79d5cc13",
   "metadata": {},
   "source": [
    "# AI_LV8_CA2_V8\n",
    "\n",
    "Student: Yuri Ribeiro - 2020347\n",
    "\n"
   ]
  },
  {
   "cell_type": "markdown",
   "id": "89dffab9",
   "metadata": {},
   "source": [
    "## Questions\n"
   ]
  },
  {
   "cell_type": "markdown",
   "id": "d863150e",
   "metadata": {},
   "source": [
    "### (i) Identify the differences between a graph and a tree. \n",
    "\n",
    "A - A graph is visual representation of information in a more general graphical form than a tree. It consists of a series of nodes/vertices and edges/links displayed as connections linking the nodes. Graphs can have cycles as a closed loops. While a tree is a general data structure similar to a real tree. It also contains nodes/vertices and edges, however, each node has at most one parent node, and none or more children in a specific order. Thus, a tree cannot have any cycles. (Bullinaria, 2019)"
   ]
  },
  {
   "cell_type": "markdown",
   "id": "a621cfa9",
   "metadata": {},
   "source": [
    "###  (ii) Explain in detail how the graph is an abstraction of the problem. \n",
    "\n",
    "A- Graph structures are useful for modeling and solving various problems. For example, an underground tunnel network or a railway map can be abstractly represented using nodes and edges. By creating a graph for a railway map, it becomes easier to visualize the paths, distances, and obstacles that can hinder progress, making it simpler to generate new ideas and innovations.(Bullinaria, 2019)"
   ]
  },
  {
   "cell_type": "markdown",
   "id": "679b407b",
   "metadata": {},
   "source": [
    "###  (iii)\tIdentify the advantages of using a visualisation such as the one shown in Fig\n",
    "\n",
    "A- Using a visualization like fig1 has the advantage of allowing us to determine if there is a path from point A to point K, or if there is a shorter way to get from A to S. I will demonstrate this concept further in the following question."
   ]
  },
  {
   "cell_type": "markdown",
   "id": "a2f1050f",
   "metadata": {},
   "source": [
    "### (iv)\tDemonstrate how Dijkstra’s algorithm would find the shortest path to the solution in Fig.1 through diagrams and written explanation of each stage. "
   ]
  },
  {
   "cell_type": "markdown",
   "id": "4305aac5",
   "metadata": {},
   "source": [
    "Basically, the Dijkstra Algorithm starts on the source node that we selected as a start point then it analyses the graph in order to find the shortest path to all nodes ahead. To find the shortest node in an efficient way the algorithm keeps track the distance between every node from the source node and then it updates its values. Once it finds the shortest way the source node and other it marks as a “visited” node and adds it up the value of the way. This process keeps going until all the nodes be visited.\n",
    "\n",
    "There is a strict requirement for Dijkstra’s Algorithm work: The graphs have to have only positive weights. If negative weight the algorithm will not work properly because negative weights can alter the total weight of visited nodes and decrements after this step has occurred.\n",
    "\n",
    "In this specific case, the Dijkstra algorithm will work as follows: "
   ]
  },
  {
   "cell_type": "code",
   "execution_count": 1,
   "id": "b7bd23e6",
   "metadata": {},
   "outputs": [
    {
     "data": {
      "text/html": [
       "<img src=\"graph.png\"/>"
      ],
      "text/plain": [
       "<IPython.core.display.Image object>"
      ]
     },
     "execution_count": 1,
     "metadata": {},
     "output_type": "execute_result"
    }
   ],
   "source": [
    "# import image module\n",
    "from IPython.display import Image\n",
    "\n",
    "# display the image\n",
    "Image(url=\"graph.png\")"
   ]
  },
  {
   "cell_type": "code",
   "execution_count": null,
   "id": "5983d71d",
   "metadata": {},
   "outputs": [],
   "source": []
  },
  {
   "cell_type": "code",
   "execution_count": null,
   "id": "ac48e89d",
   "metadata": {},
   "outputs": [],
   "source": []
  },
  {
   "cell_type": "code",
   "execution_count": null,
   "id": "a149126c",
   "metadata": {},
   "outputs": [],
   "source": []
  },
  {
   "cell_type": "code",
   "execution_count": null,
   "id": "46d2fdc7",
   "metadata": {},
   "outputs": [],
   "source": []
  }
 ],
 "metadata": {
  "kernelspec": {
   "display_name": "Python 3 (ipykernel)",
   "language": "python",
   "name": "python3"
  },
  "language_info": {
   "codemirror_mode": {
    "name": "ipython",
    "version": 3
   },
   "file_extension": ".py",
   "mimetype": "text/x-python",
   "name": "python",
   "nbconvert_exporter": "python",
   "pygments_lexer": "ipython3",
   "version": "3.11.5"
  }
 },
 "nbformat": 4,
 "nbformat_minor": 5
}
