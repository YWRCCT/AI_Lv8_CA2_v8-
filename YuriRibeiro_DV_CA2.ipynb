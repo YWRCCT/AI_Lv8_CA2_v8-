{
 "cells": [
  {
   "cell_type": "markdown",
   "id": "79d5cc13",
   "metadata": {},
   "source": [
    "# AI_LV8_CA2_V8\n",
    "\n",
    "Student: Yuri Ribeiro - 2020347\n",
    "\n"
   ]
  },
  {
   "cell_type": "markdown",
   "id": "89dffab9",
   "metadata": {},
   "source": [
    "## Questions\n"
   ]
  },
  {
   "cell_type": "markdown",
   "id": "d863150e",
   "metadata": {},
   "source": [
    "### (i) Identify the differences between a graph and a tree. \n",
    "\n",
    "A - A graph is visual representation of information in a more general graphical form than a tree. It consists of a series of nodes/vertices and edges/links displayed as connections linking the nodes. Graphs can have cycles as a closed loops. While a tree is a general data structure similar to a real tree. It also contains nodes/vertices and edges, however, each node has at most one parent node, and none or more children in a specific order. Thus, a tree cannot have any cycles. (Bullinaria, 2019)"
   ]
  },
  {
   "cell_type": "markdown",
   "id": "a621cfa9",
   "metadata": {},
   "source": [
    "###  (ii) Explain in detail how the graph is an abstraction of the problem. \n",
    "\n",
    "A- Graph structures are useful for modeling and solving various problems. For example, an underground tunnel network or a railway map can be abstractly represented using nodes and edges. By creating a graph for a railway map, it becomes easier to visualize the paths, distances, and obstacles that can hinder progress, making it simpler to generate new ideas and innovations.(Bullinaria, 2019)"
   ]
  },
  {
   "cell_type": "markdown",
   "id": "679b407b",
   "metadata": {},
   "source": [
    "###  (iii)\tIdentify the advantages of using a visualisation such as the one shown in Fig\n",
    "\n",
    "A- Using a visualization like fig1 has the advantage of allowing us to identify patterns and structures. It can clarify and create a better understanding of the problem. Also, it is useful to dectect any erros and it helps to design the best algorithm solution."
   ]
  },
  {
   "cell_type": "markdown",
   "id": "f39b84cd",
   "metadata": {},
   "source": [
    "### (iv)\tDemonstrate how Dijkstra’s algorithm would find the shortest path to the solution in Fig.1 through diagrams and written explanation of each stage. "
   ]
  },
  {
   "cell_type": "markdown",
   "id": "1adc21aa",
   "metadata": {},
   "source": [
    "Basically, the Dijkstra Algorithm starts on the source node that we selected as a start point then it analyses the graph in order to find the shortest path to all nodes ahead. To find the shortest node in an efficient way the algorithm keeps track the distance between every node from the source node and then it updates its values. Once it finds the shortest way the source node and other it marks as a “visited” node and adds it up the value of the way. This process keeps going until all the nodes be visited.\n",
    "\n",
    "There is a strict requirement for Dijkstra’s Algorithm work: The graphs have to have only positive weights. If negative weight the algorithm will not work properly because negative weights can alter the total weight of visited nodes and decrements after this step has occurred.(Navone, 2020)\n",
    "\n",
    "In this specific case, the Dijkstra algorithm will work as follows: "
   ]
  },
  {
   "cell_type": "code",
   "execution_count": 1,
   "id": "e69ab203",
   "metadata": {},
   "outputs": [
    {
     "data": {
      "text/html": [
       "<img src=\"graph.png\"/>"
      ],
      "text/plain": [
       "<IPython.core.display.Image object>"
      ]
     },
     "execution_count": 1,
     "metadata": {},
     "output_type": "execute_result"
    }
   ],
   "source": [
    "# import image module\n",
    "from IPython.display import Image\n",
    "\n",
    "# display the image\n",
    "Image(url=\"graph.png\")"
   ]
  },
  {
   "cell_type": "markdown",
   "id": "09c3b053",
   "metadata": {},
   "source": [
    "### Compare the performance of Dijkstra’s algorithm and the A* search algorithm, referring to heuristics, to find the shortest path to the problem by implementing both algorithms "
   ]
  },
  {
   "cell_type": "code",
   "execution_count": 2,
   "id": "7ae66672",
   "metadata": {},
   "outputs": [],
   "source": [
    "puzzle_graph = {\n",
    "    'A' : {'B': 1, 'C' : 5, 'H': 2},\n",
    "    'B' : {'A': 1, 'C': 2, 'D': 4},\n",
    "    'C' : {'A': 5, 'B': 2, 'G': 1},\n",
    "    'D' : {'B': 4, 'E': 4, 'F': 7, 'L': 7},\n",
    "    'E' : {'D': 4, 'F': 3, 'W': 6},\n",
    "    'F' : {'D': 7, 'G': 2, 'E': 3 },\n",
    "    'G' : {'C': 1, 'F': 2, 'L': 3},\n",
    "    'H' : {'A': 2, 'K': 5, 'J': 9},\n",
    "    'J' : {'H': 9, 'K': 3, 'N': 6},\n",
    "    'K' : {'H': 5, 'J': 3, 'L': 5},\n",
    "    'L' : {'K': 5, 'G': 3, 'D': 7, 'N': 3, 'W': 8, 'M': 4},\n",
    "    'M' : {'L': 4, 'Q': 10, 'P': 2},\n",
    "    'N' : {'J': 6, 'L': 3, 'S': 7, 'P': 4},\n",
    "    'P' : {'N': 4, 'M': 2, 'R': 5},\n",
    "    'Q' : {'M': 10, 'W': 4, 'S': 8},\n",
    "    'R' : {'P': 5, 'S': 4, 'T': 3},\n",
    "    'S' : {'Q': 8, 'R': 4, 'T': 4, 'U':2, 'V': 6},\n",
    "    'T' : {'R': 3, 'S': 4, 'U': 1},\n",
    "    'U' : {'S': 2, 'T': 1, 'V': 3},\n",
    "    'V' : {'W': 5, 'S': 6, 'L': 10, 'U': 3},\n",
    "    'W' : {'E': 6, 'L': 8, 'Q': 4, 'V': 5}\n",
    "}"
   ]
  },
  {
   "cell_type": "code",
   "execution_count": 26,
   "id": "913f81b9",
   "metadata": {},
   "outputs": [
    {
     "name": "stdout",
     "output_type": "stream",
     "text": [
      "Shortest distance from node A to node S: 17\n",
      "Runtime: 0.000997543334961 seconds\n"
     ]
    }
   ],
   "source": [
    "# Dijkstra's Algorithm Performance (source: Week 5 - Artificial Inteligence - CCT - Material)\n",
    "\n",
    "import heapq\n",
    "import time\n",
    "\n",
    "def dijkstra(graph, start):\n",
    "    # Initialize distances dictionary with infinity for all nodes except the start node\n",
    "    distances = {node: float('infinity') for node in graph}\n",
    "    distances[start] = 0  # Distance from start to start is 0\n",
    "\n",
    "    # Priority queue to store (distance, node) pairs\n",
    "    priority_queue = [(0, start)]\n",
    "\n",
    "    # Headp Pop the smallest distance node from the priority queue\n",
    "    while priority_queue:\n",
    "        current_distance, current_node = heapq.heappop(priority_queue)\n",
    "\n",
    "        # Check if the current path is shorter than the known shortest path to the current node\n",
    "        if current_distance > distances[current_node]:\n",
    "            continue\n",
    "            \n",
    "        # Go to all neighbors nodes of the current node and calculate the total distance from the start node\n",
    "        for neighbor, weight in graph[current_node].items():\n",
    "            distance = current_distance + weight\n",
    "\n",
    "            # If a shorter path is found, update the distance and push it to the priority queue\n",
    "            if distance < distances[neighbor]:\n",
    "                distances[neighbor] = distance\n",
    "                heapq.heappush(priority_queue, (distance, neighbor))\n",
    "\n",
    "    return distances\n",
    "\n",
    "# Set the start and end node\n",
    "start_node = 'A'\n",
    "end_node = 'S'\n",
    "\n",
    "# Record the time when it starts\n",
    "start_time = time.time()\n",
    "\n",
    "# variable call the function dijkstra\n",
    "shortest_distances = dijkstra(puzzle_graph, start_node)\n",
    "\n",
    "# Record the time when it finisih\n",
    "end_time = time.time()\n",
    "\n",
    "\n",
    "# print the result and the time performance\n",
    "print(f\"Shortest distance from node {start_node} to node {end_node}: {shortest_distances[end_node]}\")\n",
    "print(f\"Runtime: {round(end_time - start_time, 15)} seconds\")"
   ]
  },
  {
   "cell_type": "code",
   "execution_count": 33,
   "id": "090c8ac7",
   "metadata": {},
   "outputs": [
    {
     "name": "stdout",
     "output_type": "stream",
     "text": [
      "Shortest distance from node A to node S: 17\n",
      "Runtime: 0.0009994507 seconds\n"
     ]
    }
   ],
   "source": [
    "# A Start Alrogithm Performance( source: https://www.algorithms-and-technologies.com/a_star/python)\n",
    "\n",
    "import heapq\n",
    "import math\n",
    "import time\n",
    "\n",
    " # heuristic function returns 0 \n",
    "def heuristic(node, goal):\n",
    "   \n",
    "    return 0 \n",
    "\n",
    " # A* algorithm starts from distance 0\n",
    "    \n",
    "def a_star(graph, start, goal):\n",
    "    distances = {node: float('infinity') for node in graph}\n",
    "    distances[start] = 0\n",
    "    priority_queue = [(0 + heuristic(start, goal), start)]  # set the cost and node to priority queue\n",
    "\n",
    "    # Pop the smallest node from the priority queue\n",
    "    while priority_queue:\n",
    "        _, current_node = heapq.heappop(priority_queue)\n",
    "\n",
    "        # go to all neighbors of the current node taken from the priority queue\n",
    "        for neighbor, weight in graph[current_node].items():\n",
    "            # calculate the distance from the start node to the neighbor\n",
    "            distance = distances[current_node] + weight \n",
    "            heuristic_cost = heuristic(neighbor, goal)\n",
    "            total_cost = distance + heuristic_cost\n",
    "\n",
    "            # If it finds a shorter oath then update the distance and put it on to the priority queue \n",
    "            if total_cost < distances[neighbor]:\n",
    "                distances[neighbor] = total_cost\n",
    "                heapq.heappush(priority_queue, (total_cost, neighbor))\n",
    "\n",
    "    return distances\n",
    "\n",
    "# Set the start and end node\n",
    "start_node = 'A'\n",
    "end_node = 'S'\n",
    "\n",
    "# Record the time when it starts\n",
    "start_time = time.time()\n",
    "\n",
    "# variable call the function A_start\n",
    "shortest_distances_astar = a_star(puzzle_graph, start_node, end_node)\n",
    "\n",
    "# Record the time when it finisih\n",
    "end_time = time.time()\n",
    "\n",
    "# Print the result and the time performance\n",
    "print(f\"Shortest distance from node {start_node} to node {end_node}: {shortest_distances_astar[end_node]}\")\n",
    "print(f\"Runtime: {round(end_time - start_time, 10)} seconds\")\n",
    "\n"
   ]
  },
  {
   "cell_type": "markdown",
   "id": "f1acd154",
   "metadata": {},
   "source": [
    "# Comparison between Dijkstra and A*"
   ]
  },
  {
   "cell_type": "markdown",
   "id": "5bfa2ff8",
   "metadata": {},
   "source": [
    "In this case, both have the same time complexity: O((V+E). The time complexity of A* depends on the heuristic, however, to solve the puzzle the heuristic was set to 0 becoming A* a Dijkstra's algorithm. \n",
    "\n",
    "As we can see the runtime of both performances are:\n",
    "Dijkstra: 0.000997543334961 seconds\n",
    "A*:       0.0009994507 seconds\n",
    "\n",
    "The difference in this case is quite tiny. Making no difference to solve the shortest path problem. However, A* can perform better than Dijkstra in different complex scenarios where heuristics can make a big difference regarding to runtime."
   ]
  },
  {
   "cell_type": "markdown",
   "id": "c0e396ac",
   "metadata": {},
   "source": [
    "## REFERENCES"
   ]
  },
  {
   "cell_type": "markdown",
   "id": "1001fd9f",
   "metadata": {},
   "source": [
    "Bullinaria, J. (2019). Lecture Notes for Data Structures and Algorithms. Birmingham: School of Computer Science University of Birmingham.\n",
    "\n",
    "\n",
    "Navone, E. C. (2020, September 28). Dijkstra's Shortest Path Algorithm - A Detailed and Visual Introduction. Retrieved from FreeCode Camp: https://www.freecodecamp.org/news/dijkstras-shortest-path-algorithm-visual-introduction/"
   ]
  },
  {
   "cell_type": "code",
   "execution_count": null,
   "id": "01693e94",
   "metadata": {},
   "outputs": [],
   "source": []
  }
 ],
 "metadata": {
  "kernelspec": {
   "display_name": "Python 3 (ipykernel)",
   "language": "python",
   "name": "python3"
  },
  "language_info": {
   "codemirror_mode": {
    "name": "ipython",
    "version": 3
   },
   "file_extension": ".py",
   "mimetype": "text/x-python",
   "name": "python",
   "nbconvert_exporter": "python",
   "pygments_lexer": "ipython3",
   "version": "3.11.5"
  }
 },
 "nbformat": 4,
 "nbformat_minor": 5
}
